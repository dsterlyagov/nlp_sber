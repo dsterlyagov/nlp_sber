{
  "nbformat": 4,
  "nbformat_minor": 0,
  "metadata": {
    "colab": {
      "provenance": [],
      "toc_visible": true
    },
    "kernelspec": {
      "name": "python3",
      "display_name": "Python 3"
    },
    "language_info": {
      "name": "python"
    }
  },
  "cells": [
    {
      "cell_type": "markdown",
      "source": [
        "## Имеет ли смысл обучать свои эмбеддинги?"
      ],
      "metadata": {
        "id": "XC9HPNashNA5"
      }
    },
    {
      "cell_type": "markdown",
      "source": [
        "## Предобученные русскоязычные эмбеддинги"
      ],
      "metadata": {
        "id": "lIb3Gg0avqim"
      }
    },
    {
      "cell_type": "markdown",
      "source": [
        "### RusVectores\n",
        "\n",
        "[RusVectōrēs](https://rusvectores.org/ru/): семантические модели для русского языка"
      ],
      "metadata": {
        "id": "2TM7UmFy2FtJ"
      }
    },
    {
      "cell_type": "code",
      "source": [
        "import urllib.request\n",
        "import gensim"
      ],
      "metadata": {
        "id": "wIJ3rN4h2Fej"
      },
      "execution_count": null,
      "outputs": []
    },
    {
      "cell_type": "code",
      "source": [
        "urllib.request.urlretrieve(\n",
        "    \"https://rusvectores.org/static/models/rusvectores4/ruwikiruscorpora/ruwikiruscorpora_upos_skipgram_300_2_2018.vec.gz\", \n",
        "    \"ruwikiruscorpora_upos_skipgram_300_2_2018.vec.gz\"\n",
        ")"
      ],
      "metadata": {
        "colab": {
          "base_uri": "https://localhost:8080/"
        },
        "id": "138mykiR77j1",
        "outputId": "a7105456-a9e0-40e9-df9d-fb171fc195a7"
      },
      "execution_count": null,
      "outputs": [
        {
          "output_type": "execute_result",
          "data": {
            "text/plain": [
              "('ruwikiruscorpora_upos_skipgram_300_2_2018.vec.gz',\n",
              " <http.client.HTTPMessage at 0x7fb060d06220>)"
            ]
          },
          "metadata": {},
          "execution_count": 2
        }
      ]
    },
    {
      "cell_type": "code",
      "source": [
        "model_path = 'ruwikiruscorpora_upos_skipgram_300_2_2018.vec.gz'\n",
        "model_ru = gensim.models.KeyedVectors.load_word2vec_format(model_path)"
      ],
      "metadata": {
        "id": "0QeRjzbM77ng"
      },
      "execution_count": null,
      "outputs": []
    },
    {
      "cell_type": "code",
      "source": [
        "model_ru.most_similar(positive=['ночь_NOUN'], topn=10)"
      ],
      "metadata": {
        "colab": {
          "base_uri": "https://localhost:8080/"
        },
        "id": "9E1rl0vo77pq",
        "outputId": "01dd0a74-ecd3-45de-fee2-ba204c86be0b"
      },
      "execution_count": null,
      "outputs": [
        {
          "output_type": "execute_result",
          "data": {
            "text/plain": [
              "[('ночь_PROPN', 0.7704508304595947),\n",
              " ('вечер_NOUN', 0.7683228254318237),\n",
              " ('утро_NOUN', 0.7520124316215515),\n",
              " ('полночь_NOUN', 0.7201331853866577),\n",
              " ('рассвет_NOUN', 0.6792924404144287),\n",
              " ('полдень_NOUN', 0.6637035012245178),\n",
              " ('утро_PROPN', 0.6531521677970886),\n",
              " ('ночь_ADV', 0.6248846650123596),\n",
              " ('сумерки_NOUN', 0.6227153539657593),\n",
              " ('ночью_NOUN', 0.6219336986541748)]"
            ]
          },
          "metadata": {},
          "execution_count": 4
        }
      ]
    },
    {
      "cell_type": "markdown",
      "source": [
        "#### Проблемы\n",
        "\n",
        "- На практике использовать такие эмбеддинги неудобно. Недостаточно разделить текст на токены, для каждого нужно как-то определить POS-тег. \n",
        "\n",
        "- Таблица эмбеддингов разбухает. Вместо одного слова «стать», мы храним 6: 2 разумных «стать_VERB», «стать_NOUN» и 4 странных «стать_ADV», «стать_PROPN», «стать_NUM», «стать_ADJ». \n",
        "\n",
        "- В таблице на 250 000 записей 195 000 уникальных слов."
      ],
      "metadata": {
        "id": "zMfgsKjIT2HG"
      }
    },
    {
      "cell_type": "markdown",
      "source": [
        "### Navec\n",
        "\n",
        "[navec](https://natasha.github.io/navec/) - компактные эмбеддинги для русского языка\n",
        "\n",
        "GloVe эмбеддинги, в текстах мало опечаток, проблему OOV-токенов решает большой словарь. 250 000 строк в таблице news_1B_250K_300d_100q покрывают 98% слов в новостных статьях.\n",
        "\n",
        "Архивы мало весят из-за квантизации: заменили 32-битные float-числа на 8-битные коды, затем заменили int-кодом не одно, а 3 числа. Кластеризуем все тройки чисел из таблицы эмбеддингов алгоритмом k-means на 256 кластеров, вместо каждой тройки будем хранить код от 0 до 255. \n",
        "\n",
        "При использовании сжатые вектора распаковываются\n",
        "\n",
        "\n",
        "[Navec evaluation](https://github.com/natasha/navec#evaluation)"
      ],
      "metadata": {
        "id": "FVUZ6zag2Dy8"
      }
    },
    {
      "cell_type": "code",
      "source": [
        "!pip install navec"
      ],
      "metadata": {
        "id": "qMvrmJIQnFKx"
      },
      "execution_count": null,
      "outputs": []
    },
    {
      "cell_type": "code",
      "source": [
        "!wget https://storage.yandexcloud.net/natasha-navec/packs/navec_news_v1_1B_250K_300d_100q.tar"
      ],
      "metadata": {
        "id": "t8ezhQS8TacM"
      },
      "execution_count": null,
      "outputs": []
    },
    {
      "cell_type": "code",
      "source": [
        "from navec import Navec"
      ],
      "metadata": {
        "id": "XjZ5cYQpTUvR"
      },
      "execution_count": null,
      "outputs": []
    },
    {
      "cell_type": "code",
      "source": [
        "path = 'navec_news_v1_1B_250K_300d_100q.tar'\n",
        "navec = Navec.load(path)\n",
        "navec['человек'][:15]"
      ],
      "metadata": {
        "colab": {
          "base_uri": "https://localhost:8080/"
        },
        "id": "vXC-8RP7vqLU",
        "outputId": "d937b629-451a-4171-8707-674886a0d978"
      },
      "execution_count": null,
      "outputs": [
        {
          "output_type": "execute_result",
          "data": {
            "text/plain": [
              "array([-0.13068067, -0.12051002, -0.05782367,  0.07967507,  0.08338855,\n",
              "        0.59920526,  0.4020081 , -1.0838276 ,  0.12556174,  0.17060532,\n",
              "        0.16637331, -0.00257014,  0.51296437,  0.17175263, -0.40394753],\n",
              "      dtype=float32)"
            ]
          },
          "metadata": {},
          "execution_count": 8
        }
      ]
    },
    {
      "cell_type": "markdown",
      "source": [
        "## Оценка близости векторов\n",
        "\n",
        "- существует много разных способов измерить расстояние между векторами\n",
        "- но в NLP мы чаще всего сталкиваемся с косинусным расстоянием\n",
        "\n",
        "![image.png](data:image/png;base64,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)\n",
        "\n",
        "Длина вектора может зависеть от модели, которой этот вектор был построен. Тогда, например, Евклидово расстояние будет большим, но с косинусным все хорошо"
      ],
      "metadata": {
        "id": "7uvZzz5k9P6y"
      }
    },
    {
      "cell_type": "markdown",
      "source": [
        "## Визуализация\n",
        "\n",
        "https://projector.tensorflow.org/"
      ],
      "metadata": {
        "id": "FXH_4Nrv3Qb7"
      }
    },
    {
      "cell_type": "markdown",
      "source": [
        "## Оценка эмбеддингов"
      ],
      "metadata": {
        "id": "DsHlbBP4vzvU"
      }
    },
    {
      "cell_type": "markdown",
      "source": [
        "### Intrinsic"
      ],
      "metadata": {
        "id": "kC_7fu_B3gnp"
      }
    },
    {
      "cell_type": "markdown",
      "source": [
        "#### SimLex-999\n",
        "\n",
        "[SimLex-999](https://fh295.github.io/simlex.html) \n",
        "\n",
        "Обеспечивает способ измерения того, насколько хорошо модели отражают сходство, а не родство или ассоциацию.\n",
        "\n",
        "![image.png](data:image/png;base64,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)\n",
        "\n",
        "(coast\\shore - берег, closet - шкаф, clothes - одежда)"
      ],
      "metadata": {
        "id": "7P63ClU73cAp"
      }
    },
    {
      "cell_type": "markdown",
      "source": [
        "#### wordsim353\n",
        "\n",
        "[wordsim353](http://alfonseca.org/eng/research/wordsim353.html)\n",
        "\n",
        "Оценивает сходство/связность слов"
      ],
      "metadata": {
        "id": "StX2AlfG3n4C"
      }
    },
    {
      "cell_type": "markdown",
      "source": [
        "## Doc2Vec\n",
        "\n",
        "[gensim Doc2Vec](https://radimrehurek.com/gensim/models/doc2vec.html)"
      ],
      "metadata": {
        "id": "jfh_zGOy3vIp"
      }
    },
    {
      "cell_type": "code",
      "source": [
        "!wget https://github.com/yutkin/Lenta.Ru-News-Dataset/releases/download/v1.0/lenta-ru-news.csv.gz"
      ],
      "metadata": {
        "id": "sxRdtsU2crBk"
      },
      "execution_count": null,
      "outputs": []
    },
    {
      "cell_type": "code",
      "source": [
        "!pip install corus"
      ],
      "metadata": {
        "id": "wPrw-9HRcqcF"
      },
      "execution_count": null,
      "outputs": []
    },
    {
      "cell_type": "code",
      "source": [
        "from gensim.models.doc2vec import TaggedDocument, Doc2Vec\n",
        "from corus import load_lenta\n",
        "import spacy"
      ],
      "metadata": {
        "id": "5Z2VBQnZi_64"
      },
      "execution_count": null,
      "outputs": []
    },
    {
      "cell_type": "code",
      "source": [
        "path = 'lenta-ru-news.csv.gz'\n",
        "records = load_lenta(path)\n",
        "data = [next(records).text for i in range(10000)]"
      ],
      "metadata": {
        "id": "DrgQVan9ck4D"
      },
      "execution_count": null,
      "outputs": []
    },
    {
      "cell_type": "code",
      "source": [
        "#prepare dataset\n",
        "def create_tagged_document(list_of_list_of_words):\n",
        "    for i, list_of_words in enumerate(list_of_list_of_words):\n",
        "        yield TaggedDocument(list_of_words, [i])\n",
        "\n",
        "train_data = list(create_tagged_document(data))\n",
        "print(train_data[:1])"
      ],
      "metadata": {
        "id": "y1ai8wvy3qhl",
        "colab": {
          "base_uri": "https://localhost:8080/"
        },
        "outputId": "d8c99172-7465-470c-e47d-ababe0c34bbd"
      },
      "execution_count": null,
      "outputs": [
        {
          "output_type": "stream",
          "name": "stdout",
          "text": [
            "[TaggedDocument(words='Вице-премьер по социальным вопросам Татьяна Голикова рассказала, в каких регионах России зафиксирована наиболее высокая смертность от рака, сообщает РИА Новости. По словам Голиковой, чаще всего онкологические заболевания становились причиной смерти в Псковской, Тверской, Тульской и Орловской областях, а также в Севастополе. Вице-премьер напомнила, что главные факторы смертности в России — рак и болезни системы кровообращения. В начале года стало известно, что смертность от онкологических заболеваний среди россиян снизилась впервые за три года. По данным Росстата, в 2017 году от рака умерли 289 тысяч человек. Это на 3,5 процента меньше, чем годом ранее.', tags=[0])]\n"
          ]
        }
      ]
    },
    {
      "cell_type": "code",
      "source": [
        "%%time\n",
        "\n",
        "model = Doc2Vec(vector_size=50, min_count=1, epochs=40)\n",
        "model.build_vocab(train_data)\n",
        "model.train(train_data, total_examples=model.corpus_count, epochs=model.epochs)"
      ],
      "metadata": {
        "id": "IlFZNr-23qkQ",
        "colab": {
          "base_uri": "https://localhost:8080/"
        },
        "outputId": "baf470bc-979a-4607-995d-318f46233a92"
      },
      "execution_count": null,
      "outputs": [
        {
          "output_type": "stream",
          "name": "stderr",
          "text": [
            "WARNING:gensim.models.doc2vec:Each 'words' should be a list of words (usually unicode strings). First 'words' here is instead plain <class 'str'>.\n"
          ]
        },
        {
          "output_type": "stream",
          "name": "stdout",
          "text": [
            "CPU times: user 9min 46s, sys: 11.1 s, total: 9min 57s\n",
            "Wall time: 6min 24s\n"
          ]
        }
      ]
    },
    {
      "cell_type": "code",
      "source": [
        "print(model.infer_vector('Вице-премьер по социальным вопросам Татьяна Голикова рассказала...'.split(' ')))"
      ],
      "metadata": {
        "id": "TkAIk-aEjFO9",
        "colab": {
          "base_uri": "https://localhost:8080/"
        },
        "outputId": "47a0b9ce-2e36-46c4-9bc9-5e0c93e925cc"
      },
      "execution_count": null,
      "outputs": [
        {
          "output_type": "stream",
          "name": "stdout",
          "text": [
            "[-4.7203694e-03 -5.5024968e-03  4.4733179e-03  4.7838686e-05\n",
            "  3.0523217e-03 -7.8172358e-03 -3.9171646e-03 -5.9685705e-04\n",
            "  1.2103665e-03 -6.8730628e-03 -2.3947072e-03  4.3763043e-04\n",
            "  7.2891354e-03  4.7484841e-03 -2.9249173e-03 -3.3222050e-03\n",
            " -3.8177555e-03 -7.2721182e-04  3.7145496e-03  8.1716208e-03\n",
            "  3.1515884e-03  5.3341375e-03  6.9687343e-03  7.1082162e-03\n",
            "  9.4214194e-03 -9.3498426e-03  3.0069791e-03  6.0512065e-03\n",
            " -2.7917945e-03 -1.5982210e-03  4.4865217e-03  7.7362941e-03\n",
            " -5.3791534e-03 -8.3851200e-03 -9.7940862e-04 -2.7725452e-03\n",
            "  4.6101380e-03  2.3691535e-03 -9.1227057e-04 -9.8531721e-03\n",
            "  9.5840935e-03 -3.6485964e-03 -6.2402799e-03 -1.0192364e-03\n",
            "  9.9339371e-04  5.4243091e-04  8.7311509e-04  1.7242730e-03\n",
            "  4.7846435e-04  1.8223620e-03]\n"
          ]
        }
      ]
    },
    {
      "cell_type": "code",
      "source": [],
      "metadata": {
        "id": "8NdpMu-cjFSE"
      },
      "execution_count": null,
      "outputs": []
    }
  ]
}